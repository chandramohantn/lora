{
 "cells": [
  {
   "cell_type": "code",
   "execution_count": 1,
   "id": "291b1ef9",
   "metadata": {},
   "outputs": [],
   "source": [
    "import torch\n",
    "import numpy as np"
   ]
  },
  {
   "cell_type": "markdown",
   "id": "30abe624",
   "metadata": {},
   "source": [
    "### Generate a rank-deficient matrix W"
   ]
  },
  {
   "cell_type": "code",
   "execution_count": 2,
   "id": "194355a4",
   "metadata": {},
   "outputs": [
    {
     "name": "stdout",
     "output_type": "stream",
     "text": [
      "torch.Size([10, 10]) torch.float32\n"
     ]
    },
    {
     "data": {
      "text/plain": [
       "tensor([[-0.2690,  1.4512,  3.2885,  0.9916, -0.3192, -0.5900,  0.8768, -0.2148,\n",
       "          0.8403, -1.7063],\n",
       "        [-1.0573, -0.9110,  0.6831, -1.8105, -0.7579, -1.0126,  1.4853,  0.7139,\n",
       "         -0.2056,  1.2645],\n",
       "        [ 0.3463,  1.1518,  1.3556,  1.3295,  0.1842,  0.1631, -0.2336, -0.4349,\n",
       "          0.5200, -1.4426],\n",
       "        [ 1.5132,  3.8337,  3.7048,  4.7743,  0.8948,  0.9494, -1.3756, -1.6176,\n",
       "          1.6362, -4.8585],\n",
       "        [ 0.0119, -0.8964, -1.6858, -0.7620,  0.0766,  0.1905, -0.2855,  0.2055,\n",
       "         -0.4786,  1.0784],\n",
       "        [ 0.4635, -0.4313, -1.8368,  0.0770,  0.3946,  0.6080, -0.8974, -0.1173,\n",
       "         -0.3504,  0.4466],\n",
       "        [-0.8219, -2.0977, -2.0409, -2.6064, -0.4848, -0.5126,  0.7426,  0.8822,\n",
       "         -0.8969,  2.6575],\n",
       "        [-0.9006, -2.4675, -2.5487, -3.0019, -0.5186, -0.5284,  0.7637,  1.0065,\n",
       "         -1.0723,  3.1155],\n",
       "        [-2.0535, -1.7387,  1.3834, -3.4900, -1.4744, -1.9727,  2.8938,  1.3793,\n",
       "         -0.3831,  2.4191],\n",
       "        [ 0.0707,  0.2710,  0.3432,  0.3024,  0.0349,  0.0262, -0.0371, -0.0972,\n",
       "          0.1252, -0.3378]])"
      ]
     },
     "execution_count": 2,
     "metadata": {},
     "output_type": "execute_result"
    }
   ],
   "source": [
    "d, k = 10, 10\n",
    "W_rank = 2\n",
    "W = torch.randn(d, W_rank) @ torch.randn(W_rank, k)\n",
    "print(W.shape, W.dtype)\n",
    "W"
   ]
  },
  {
   "cell_type": "markdown",
   "id": "e1777483",
   "metadata": {},
   "source": [
    "### Evaluate rank of the matrix W"
   ]
  },
  {
   "cell_type": "code",
   "execution_count": 3,
   "id": "4bc77968",
   "metadata": {},
   "outputs": [
    {
     "name": "stdout",
     "output_type": "stream",
     "text": [
      "Rank of W: 2\n"
     ]
    }
   ],
   "source": [
    "W_rank = np.linalg.matrix_rank(W)\n",
    "print(f\"Rank of W: {W_rank}\")"
   ]
  },
  {
   "cell_type": "markdown",
   "id": "7eb96a48",
   "metadata": {},
   "source": [
    "### Calculate SVD decomposition of the W matrix"
   ]
  },
  {
   "cell_type": "code",
   "execution_count": 4,
   "id": "990e416c",
   "metadata": {},
   "outputs": [
    {
     "name": "stdout",
     "output_type": "stream",
     "text": [
      "U shape: torch.Size([10, 10]), S shape: torch.Size([10]), V shape: torch.Size([10, 10])\n",
      "U rank: 10, S rank: 1, V rank: 10\n"
     ]
    }
   ],
   "source": [
    "U, S, V = torch.svd(W)\n",
    "print(f\"U shape: {U.shape}, S shape: {S.shape}, V shape: {V.shape}\")\n",
    "print(f\"U rank: {np.linalg.matrix_rank(U)}, S rank: {np.linalg.matrix_rank(S)}, V rank: {np.linalg.matrix_rank(V)}\")"
   ]
  },
  {
   "cell_type": "markdown",
   "id": "e0c885c0",
   "metadata": {},
   "source": [
    "#### For rank-r factorization, keep only the first r singular values (corresponding columns of U and V)"
   ]
  },
  {
   "cell_type": "code",
   "execution_count": 5,
   "id": "813a9597",
   "metadata": {},
   "outputs": [
    {
     "name": "stdout",
     "output_type": "stream",
     "text": [
      "U_r shape: torch.Size([10, 2]), S_r shape: torch.Size([2, 2]), V_r shape: torch.Size([2, 10])\n",
      "U_r rank: 2, S_r rank: 2, V_r rank: 2\n"
     ]
    }
   ],
   "source": [
    "U_r = U[:, :W_rank]\n",
    "S_r = torch.diag(S[:W_rank])\n",
    "V_r = V[:, :W_rank].t()\n",
    "print(f\"U_r shape: {U_r.shape}, S_r shape: {S_r.shape}, V_r shape: {V_r.shape}\")\n",
    "print(f\"U_r rank: {np.linalg.matrix_rank(U_r)}, S_r rank: {np.linalg.matrix_rank(S_r)}, V_r rank: {np.linalg.matrix_rank(V_r)}\")"
   ]
  },
  {
   "cell_type": "markdown",
   "id": "ceca0355",
   "metadata": {},
   "source": [
    "#### Creating the A and B matrices"
   ]
  },
  {
   "cell_type": "code",
   "execution_count": 6,
   "id": "9b641c5d",
   "metadata": {},
   "outputs": [
    {
     "name": "stdout",
     "output_type": "stream",
     "text": [
      "B shape: torch.Size([10, 2]), A shape: torch.Size([2, 10])\n",
      "B rank: 2, A rank: 2\n"
     ]
    }
   ],
   "source": [
    "B = U_r @ S_r\n",
    "A = V_r\n",
    "print(f\"B shape: {B.shape}, A shape: {A.shape}\")\n",
    "print(f\"B rank: {np.linalg.matrix_rank(B)}, A rank: {np.linalg.matrix_rank(A)}\")"
   ]
  },
  {
   "cell_type": "markdown",
   "id": "24524d0a",
   "metadata": {},
   "source": [
    "### For the same input, check whether the original matrix and matrices after decomposition are giving the same result"
   ]
  },
  {
   "cell_type": "code",
   "execution_count": 7,
   "id": "4aafb16f",
   "metadata": {},
   "outputs": [
    {
     "name": "stdout",
     "output_type": "stream",
     "text": [
      "bias shape: torch.Size([10, 1]), x shape: torch.Size([10, 1])\n"
     ]
    }
   ],
   "source": [
    "bias = torch.randn(d, 1)\n",
    "x = torch.randn(d, 1)\n",
    "print(f\"bias shape: {bias.shape}, x shape: {x.shape}\")"
   ]
  },
  {
   "cell_type": "markdown",
   "id": "c0aa4912",
   "metadata": {},
   "source": [
    "#### Compute y = Wx + bias"
   ]
  },
  {
   "cell_type": "code",
   "execution_count": 8,
   "id": "7e9705c5",
   "metadata": {},
   "outputs": [
    {
     "name": "stdout",
     "output_type": "stream",
     "text": [
      "Output from original W: tensor([[ 1.5075],\n",
      "        [ 1.4519],\n",
      "        [-0.6265],\n",
      "        [-3.7423],\n",
      "        [-1.2784],\n",
      "        [-0.2425],\n",
      "        [ 1.5680],\n",
      "        [ 2.8867],\n",
      "        [ 2.1521],\n",
      "        [ 0.1100]])\n"
     ]
    }
   ],
   "source": [
    "y = W @ x + bias\n",
    "print(f\"Output from original W: {y}\")"
   ]
  },
  {
   "cell_type": "code",
   "execution_count": 9,
   "id": "c25c6539",
   "metadata": {},
   "outputs": [
    {
     "name": "stdout",
     "output_type": "stream",
     "text": [
      "Output from decomposed W: tensor([[ 1.5075],\n",
      "        [ 1.4519],\n",
      "        [-0.6265],\n",
      "        [-3.7423],\n",
      "        [-1.2784],\n",
      "        [-0.2425],\n",
      "        [ 1.5680],\n",
      "        [ 2.8867],\n",
      "        [ 2.1521],\n",
      "        [ 0.1100]])\n"
     ]
    }
   ],
   "source": [
    "y_prime = (B @ A) @ x + bias\n",
    "print(f\"Output from decomposed W: {y_prime}\")"
   ]
  },
  {
   "cell_type": "code",
   "execution_count": 10,
   "id": "767955a1",
   "metadata": {},
   "outputs": [
    {
     "name": "stdout",
     "output_type": "stream",
     "text": [
      "Total parameters in W: 100\n",
      "Total parameters in B and A: 40\n"
     ]
    }
   ],
   "source": [
    "print(f\"Total parameters in W: {W.nelement()}\")\n",
    "print(f\"Total parameters in B and A: {B.nelement() + A.nelement()}\")"
   ]
  }
 ],
 "metadata": {
  "kernelspec": {
   "display_name": "ml_env",
   "language": "python",
   "name": "python3"
  },
  "language_info": {
   "codemirror_mode": {
    "name": "ipython",
    "version": 3
   },
   "file_extension": ".py",
   "mimetype": "text/x-python",
   "name": "python",
   "nbconvert_exporter": "python",
   "pygments_lexer": "ipython3",
   "version": "3.13.2"
  }
 },
 "nbformat": 4,
 "nbformat_minor": 5
}
